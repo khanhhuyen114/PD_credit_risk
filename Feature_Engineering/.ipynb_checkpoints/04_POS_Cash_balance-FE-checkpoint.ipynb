{
 "cells": [
  {
   "cell_type": "code",
   "execution_count": 1,
   "id": "63d10a05",
   "metadata": {},
   "outputs": [
    {
     "name": "stderr",
     "output_type": "stream",
     "text": [
      "C:\\Users\\Admin\\AppData\\Roaming\\Python\\Python39\\site-packages\\pandas\\core\\computation\\expressions.py:21: UserWarning: Pandas requires version '2.8.0' or newer of 'numexpr' (version '2.7.3' currently installed).\n",
      "  from pandas.core.computation.check import NUMEXPR_INSTALLED\n",
      "C:\\Users\\Admin\\AppData\\Roaming\\Python\\Python39\\site-packages\\pandas\\core\\arrays\\masked.py:62: UserWarning: Pandas requires version '1.3.4' or newer of 'bottleneck' (version '1.3.2' currently installed).\n",
      "  from pandas.core import (\n"
     ]
    },
    {
     "name": "stdout",
     "output_type": "stream",
     "text": [
      "importing Jupyter notebook from function_for_eda.ipynb\n"
     ]
    }
   ],
   "source": [
    "import numpy as np\n",
    "import pandas as pd\n",
    "import matplotlib.pyplot as plt\n",
    "import seaborn as sns\n",
    "import warnings\n",
    "warnings.filterwarnings('ignore')\n",
    "\n",
    "from sklearn.base import TransformerMixin\n",
    "from sklearn.preprocessing import MinMaxScaler, StandardScaler, OneHotEncoder, LabelEncoder, OrdinalEncoder\n",
    "from sklearn.model_selection import train_test_split, KFold\n",
    "from sklearn.utils import resample\n",
    "from sklearn.metrics import confusion_matrix,accuracy_score,precision_score,recall_score,roc_auc_score,classification_report,roc_curve,auc, f1_score\n",
    "\n",
    "import import_ipynb\n",
    "from function_for_eda import *"
   ]
  },
  {
   "cell_type": "markdown",
   "id": "13e27e23",
   "metadata": {},
   "source": [
    "# 5. POS_CASH_balance.csv\n",
    "Table pos_cash_balance chứa Monthly Balance Snapshots of previous Point of Sales and Cash Loans của các khoản vay trước đây của khách hàng tại Home Credit. Từ các bước EDA trước đó, chúng ta tiến hành các bước Feature Engineering như sau:\n",
    "- <b>Bước 1</b>: Giống với bảng bureau_balance, dữ liệu ở bảng pos_cash có liên quan đến time series, nên chúng ta có thể tạo thêm feature EWM từ CNT_INSTALLMENT và CNT_FUTURE features và một số feature khác\n",
    "- <b>Bước 2</b>: Thực hiện các aggregations thông qua SK_ID_PREV bằng các phép aggregation như min, max, sum, count,....Đầu tiên nhóm 12 aggregate trên toàn bộ data, sau đó aggregate những bản ghi trong 2 năm gần nhất và và aggregate qua những năm còn lại. Cuối cùng là aggregate data qua column Contract_Type là Active và Completed. Việc lựa chọn các phép aggregation dựa trên domain knowledge, quá trình eda, cũng như một số solutions tham khảo khác\n",
    "- <b>Bước 3</b>: Cuối cùng là thực hiện aggregation trên toàn bộ data qua SK_ID_CURR\n"
   ]
  },
  {
   "cell_type": "code",
   "execution_count": 2,
   "id": "fd1beb82",
   "metadata": {},
   "outputs": [
    {
     "ename": "FileNotFoundError",
     "evalue": "[Errno 2] No such file or directory: './dseb63_final_project_DP_dataset/dseb63_POS_CASH_balance.csv'",
     "output_type": "error",
     "traceback": [
      "\u001b[1;31m---------------------------------------------------------------------------\u001b[0m",
      "\u001b[1;31mFileNotFoundError\u001b[0m                         Traceback (most recent call last)",
      "\u001b[1;32m~\\AppData\\Local\\Temp/ipykernel_6848/805708373.py\u001b[0m in \u001b[0;36m<module>\u001b[1;34m\u001b[0m\n\u001b[1;32m----> 1\u001b[1;33m \u001b[0mpos_cash\u001b[0m \u001b[1;33m=\u001b[0m \u001b[0mpd\u001b[0m\u001b[1;33m.\u001b[0m\u001b[0mread_csv\u001b[0m\u001b[1;33m(\u001b[0m\u001b[1;34m'./dseb63_final_project_DP_dataset/dseb63_POS_CASH_balance.csv'\u001b[0m\u001b[1;33m)\u001b[0m\u001b[1;33m\u001b[0m\u001b[1;33m\u001b[0m\u001b[0m\n\u001b[0m\u001b[0;32m      2\u001b[0m \u001b[0mpos_cash\u001b[0m\u001b[1;33m\u001b[0m\u001b[1;33m\u001b[0m\u001b[0m\n",
      "\u001b[1;32m~\\AppData\\Roaming\\Python\\Python39\\site-packages\\pandas\\io\\parsers\\readers.py\u001b[0m in \u001b[0;36mread_csv\u001b[1;34m(filepath_or_buffer, sep, delimiter, header, names, index_col, usecols, dtype, engine, converters, true_values, false_values, skipinitialspace, skiprows, skipfooter, nrows, na_values, keep_default_na, na_filter, verbose, skip_blank_lines, parse_dates, infer_datetime_format, keep_date_col, date_parser, date_format, dayfirst, cache_dates, iterator, chunksize, compression, thousands, decimal, lineterminator, quotechar, quoting, doublequote, escapechar, comment, encoding, encoding_errors, dialect, on_bad_lines, delim_whitespace, low_memory, memory_map, float_precision, storage_options, dtype_backend)\u001b[0m\n\u001b[0;32m    946\u001b[0m     \u001b[0mkwds\u001b[0m\u001b[1;33m.\u001b[0m\u001b[0mupdate\u001b[0m\u001b[1;33m(\u001b[0m\u001b[0mkwds_defaults\u001b[0m\u001b[1;33m)\u001b[0m\u001b[1;33m\u001b[0m\u001b[1;33m\u001b[0m\u001b[0m\n\u001b[0;32m    947\u001b[0m \u001b[1;33m\u001b[0m\u001b[0m\n\u001b[1;32m--> 948\u001b[1;33m     \u001b[1;32mreturn\u001b[0m \u001b[0m_read\u001b[0m\u001b[1;33m(\u001b[0m\u001b[0mfilepath_or_buffer\u001b[0m\u001b[1;33m,\u001b[0m \u001b[0mkwds\u001b[0m\u001b[1;33m)\u001b[0m\u001b[1;33m\u001b[0m\u001b[1;33m\u001b[0m\u001b[0m\n\u001b[0m\u001b[0;32m    949\u001b[0m \u001b[1;33m\u001b[0m\u001b[0m\n\u001b[0;32m    950\u001b[0m \u001b[1;33m\u001b[0m\u001b[0m\n",
      "\u001b[1;32m~\\AppData\\Roaming\\Python\\Python39\\site-packages\\pandas\\io\\parsers\\readers.py\u001b[0m in \u001b[0;36m_read\u001b[1;34m(filepath_or_buffer, kwds)\u001b[0m\n\u001b[0;32m    609\u001b[0m \u001b[1;33m\u001b[0m\u001b[0m\n\u001b[0;32m    610\u001b[0m     \u001b[1;31m# Create the parser.\u001b[0m\u001b[1;33m\u001b[0m\u001b[1;33m\u001b[0m\u001b[0m\n\u001b[1;32m--> 611\u001b[1;33m     \u001b[0mparser\u001b[0m \u001b[1;33m=\u001b[0m \u001b[0mTextFileReader\u001b[0m\u001b[1;33m(\u001b[0m\u001b[0mfilepath_or_buffer\u001b[0m\u001b[1;33m,\u001b[0m \u001b[1;33m**\u001b[0m\u001b[0mkwds\u001b[0m\u001b[1;33m)\u001b[0m\u001b[1;33m\u001b[0m\u001b[1;33m\u001b[0m\u001b[0m\n\u001b[0m\u001b[0;32m    612\u001b[0m \u001b[1;33m\u001b[0m\u001b[0m\n\u001b[0;32m    613\u001b[0m     \u001b[1;32mif\u001b[0m \u001b[0mchunksize\u001b[0m \u001b[1;32mor\u001b[0m \u001b[0miterator\u001b[0m\u001b[1;33m:\u001b[0m\u001b[1;33m\u001b[0m\u001b[1;33m\u001b[0m\u001b[0m\n",
      "\u001b[1;32m~\\AppData\\Roaming\\Python\\Python39\\site-packages\\pandas\\io\\parsers\\readers.py\u001b[0m in \u001b[0;36m__init__\u001b[1;34m(self, f, engine, **kwds)\u001b[0m\n\u001b[0;32m   1446\u001b[0m \u001b[1;33m\u001b[0m\u001b[0m\n\u001b[0;32m   1447\u001b[0m         \u001b[0mself\u001b[0m\u001b[1;33m.\u001b[0m\u001b[0mhandles\u001b[0m\u001b[1;33m:\u001b[0m \u001b[0mIOHandles\u001b[0m \u001b[1;33m|\u001b[0m \u001b[1;32mNone\u001b[0m \u001b[1;33m=\u001b[0m \u001b[1;32mNone\u001b[0m\u001b[1;33m\u001b[0m\u001b[1;33m\u001b[0m\u001b[0m\n\u001b[1;32m-> 1448\u001b[1;33m         \u001b[0mself\u001b[0m\u001b[1;33m.\u001b[0m\u001b[0m_engine\u001b[0m \u001b[1;33m=\u001b[0m \u001b[0mself\u001b[0m\u001b[1;33m.\u001b[0m\u001b[0m_make_engine\u001b[0m\u001b[1;33m(\u001b[0m\u001b[0mf\u001b[0m\u001b[1;33m,\u001b[0m \u001b[0mself\u001b[0m\u001b[1;33m.\u001b[0m\u001b[0mengine\u001b[0m\u001b[1;33m)\u001b[0m\u001b[1;33m\u001b[0m\u001b[1;33m\u001b[0m\u001b[0m\n\u001b[0m\u001b[0;32m   1449\u001b[0m \u001b[1;33m\u001b[0m\u001b[0m\n\u001b[0;32m   1450\u001b[0m     \u001b[1;32mdef\u001b[0m \u001b[0mclose\u001b[0m\u001b[1;33m(\u001b[0m\u001b[0mself\u001b[0m\u001b[1;33m)\u001b[0m \u001b[1;33m->\u001b[0m \u001b[1;32mNone\u001b[0m\u001b[1;33m:\u001b[0m\u001b[1;33m\u001b[0m\u001b[1;33m\u001b[0m\u001b[0m\n",
      "\u001b[1;32m~\\AppData\\Roaming\\Python\\Python39\\site-packages\\pandas\\io\\parsers\\readers.py\u001b[0m in \u001b[0;36m_make_engine\u001b[1;34m(self, f, engine)\u001b[0m\n\u001b[0;32m   1703\u001b[0m                 \u001b[1;32mif\u001b[0m \u001b[1;34m\"b\"\u001b[0m \u001b[1;32mnot\u001b[0m \u001b[1;32min\u001b[0m \u001b[0mmode\u001b[0m\u001b[1;33m:\u001b[0m\u001b[1;33m\u001b[0m\u001b[1;33m\u001b[0m\u001b[0m\n\u001b[0;32m   1704\u001b[0m                     \u001b[0mmode\u001b[0m \u001b[1;33m+=\u001b[0m \u001b[1;34m\"b\"\u001b[0m\u001b[1;33m\u001b[0m\u001b[1;33m\u001b[0m\u001b[0m\n\u001b[1;32m-> 1705\u001b[1;33m             self.handles = get_handle(\n\u001b[0m\u001b[0;32m   1706\u001b[0m                 \u001b[0mf\u001b[0m\u001b[1;33m,\u001b[0m\u001b[1;33m\u001b[0m\u001b[1;33m\u001b[0m\u001b[0m\n\u001b[0;32m   1707\u001b[0m                 \u001b[0mmode\u001b[0m\u001b[1;33m,\u001b[0m\u001b[1;33m\u001b[0m\u001b[1;33m\u001b[0m\u001b[0m\n",
      "\u001b[1;32m~\\AppData\\Roaming\\Python\\Python39\\site-packages\\pandas\\io\\common.py\u001b[0m in \u001b[0;36mget_handle\u001b[1;34m(path_or_buf, mode, encoding, compression, memory_map, is_text, errors, storage_options)\u001b[0m\n\u001b[0;32m    861\u001b[0m         \u001b[1;32mif\u001b[0m \u001b[0mioargs\u001b[0m\u001b[1;33m.\u001b[0m\u001b[0mencoding\u001b[0m \u001b[1;32mand\u001b[0m \u001b[1;34m\"b\"\u001b[0m \u001b[1;32mnot\u001b[0m \u001b[1;32min\u001b[0m \u001b[0mioargs\u001b[0m\u001b[1;33m.\u001b[0m\u001b[0mmode\u001b[0m\u001b[1;33m:\u001b[0m\u001b[1;33m\u001b[0m\u001b[1;33m\u001b[0m\u001b[0m\n\u001b[0;32m    862\u001b[0m             \u001b[1;31m# Encoding\u001b[0m\u001b[1;33m\u001b[0m\u001b[1;33m\u001b[0m\u001b[0m\n\u001b[1;32m--> 863\u001b[1;33m             handle = open(\n\u001b[0m\u001b[0;32m    864\u001b[0m                 \u001b[0mhandle\u001b[0m\u001b[1;33m,\u001b[0m\u001b[1;33m\u001b[0m\u001b[1;33m\u001b[0m\u001b[0m\n\u001b[0;32m    865\u001b[0m                 \u001b[0mioargs\u001b[0m\u001b[1;33m.\u001b[0m\u001b[0mmode\u001b[0m\u001b[1;33m,\u001b[0m\u001b[1;33m\u001b[0m\u001b[1;33m\u001b[0m\u001b[0m\n",
      "\u001b[1;31mFileNotFoundError\u001b[0m: [Errno 2] No such file or directory: './dseb63_final_project_DP_dataset/dseb63_POS_CASH_balance.csv'"
     ]
    }
   ],
   "source": [
    "pos_cash = pd.read_csv('./dseb63_final_project_DP_dataset/dseb63_POS_CASH_balance.csv')\n",
    "pos_cash"
   ]
  },
  {
   "cell_type": "code",
   "execution_count": null,
   "id": "c5517b31",
   "metadata": {},
   "outputs": [],
   "source": [
    "#making the MONTHS_BALANCE Positive\n",
    "pos_cash['MONTHS_BALANCE'] = np.abs(pos_cash['MONTHS_BALANCE'])\n",
    "#sorting the DataFrame according to the month of status from oldest to latest, for rolling computations\n",
    "pos_cash = pos_cash.sort_values(by=['SK_ID_PREV', 'MONTHS_BALANCE'], ascending=False)\n",
    "\n",
    "#computing Exponential Moving Average for some features based on MONTHS_BALANCE\n",
    "columns_for_ema = ['CNT_INSTALMENT', 'CNT_INSTALMENT_FUTURE']\n",
    "exp_columns = ['EXP_'+ele for ele in columns_for_ema]\n",
    "pos_cash[exp_columns] = pos_cash.groupby('SK_ID_PREV')[columns_for_ema].transform(lambda x: x.ewm(alpha = 0.6).mean())\n",
    "\n",
    "#creating new features based on Domain Knowledge\n",
    "pos_cash['SK_DPD_RATIO'] = pos_cash['SK_DPD'] / (pos_cash['SK_DPD_DEF'] + 0.00001)\n",
    "pos_cash['TOTAL_TERM'] = pos_cash['CNT_INSTALMENT'] + pos_cash['CNT_INSTALMENT_FUTURE']\n",
    "pos_cash['EXP_POS_TOTAL_TERM'] = pos_cash['EXP_CNT_INSTALMENT'] + pos_cash['EXP_CNT_INSTALMENT_FUTURE']\n"
   ]
  },
  {
   "cell_type": "code",
   "execution_count": null,
   "id": "b41dc9b0",
   "metadata": {},
   "outputs": [],
   "source": [
    "overall_aggregations = {\n",
    "            'SK_ID_CURR' : ['first'],\n",
    "            'MONTHS_BALANCE' : ['max'],\n",
    "            'CNT_INSTALMENT' : ['mean', 'max','min'],\n",
    "            'CNT_INSTALMENT_FUTURE' : ['mean','max','min'],\n",
    "            'SK_DPD' : ['max','sum'],\n",
    "            'SK_DPD_DEF' : ['max','sum'],\n",
    "            'EXP_CNT_INSTALMENT' : ['last'],\n",
    "            'EXP_CNT_INSTALMENT_FUTURE' : ['last'],\n",
    "            'SK_DPD_RATIO' : ['mean','max'],\n",
    "            'TOTAL_TERM' : ['mean','max','last'],\n",
    "            'EXP_POS_TOTAL_TERM' : ['mean'] \n",
    "        }\n",
    "aggregations_for_year = {\n",
    "    'CNT_INSTALMENT' : ['mean', 'max','min'],\n",
    "    'CNT_INSTALMENT_FUTURE' : ['mean','max','min'],\n",
    "    'SK_DPD' : ['max','sum'],\n",
    "    'SK_DPD_DEF' : ['max','sum'],\n",
    "    'EXP_CNT_INSTALMENT' : ['last'],\n",
    "    'EXP_CNT_INSTALMENT_FUTURE' : ['last'],\n",
    "    'SK_DPD_RATIO' : ['mean','max'],\n",
    "    'TOTAL_TERM' : ['mean','max'],\n",
    "    'EXP_POS_TOTAL_TERM' : ['last'] \n",
    "}\n",
    "aggregations_for_categories = {\n",
    "    'CNT_INSTALMENT' : ['mean', 'max','min'],\n",
    "    'CNT_INSTALMENT_FUTURE' : ['mean','max','min'],\n",
    "    'SK_DPD' : ['max','sum'],\n",
    "    'SK_DPD_DEF' : ['max','sum'],\n",
    "    'EXP_CNT_INSTALMENT' : ['last'],\n",
    "    'EXP_CNT_INSTALMENT_FUTURE' : ['last'],\n",
    "    'SK_DPD_RATIO' : ['mean','max'],\n",
    "    'TOTAL_TERM' : ['mean','max'],\n",
    "    'EXP_POS_TOTAL_TERM' : ['last']\n",
    "}"
   ]
  },
  {
   "cell_type": "code",
   "execution_count": null,
   "id": "eecac435",
   "metadata": {},
   "outputs": [],
   "source": [
    "pos_cash_aggregated_overall = pos_cash.groupby('SK_ID_PREV').agg(overall_aggregations)\n",
    "pos_cash_aggregated_overall.columns = ['_'.join(ele).upper() for ele in pos_cash_aggregated_overall.columns]\n",
    "pos_cash_aggregated_overall.rename(columns = {'SK_ID_CURR_FIRST': 'SK_ID_CURR'}, inplace = True)\n",
    "\n",
    "#yearwise aggregations\n",
    "pos_cash['YEAR_BALANCE'] = pos_cash['MONTHS_BALANCE'] //12\n",
    "#aggregating over SK_ID_PREV for each last 2 years\n",
    "pos_cash_aggregated_year = pd.DataFrame()\n",
    "for year in range(2):\n",
    "    group = pos_cash[pos_cash['YEAR_BALANCE'] == year].groupby('SK_ID_PREV').agg(aggregations_for_year)\n",
    "    group.columns = ['_'.join(ele).upper() + '_YEAR_' + str(year) for ele in group.columns]\n",
    "    if year == 0:\n",
    "        pos_cash_aggregated_year = group\n",
    "    else:\n",
    "        pos_cash_aggregated_year = pos_cash_aggregated_year.merge(group, on = 'SK_ID_PREV', how = 'outer')\n",
    "\n",
    "#aggregating over SK_ID_PREV for rest of the years\n",
    "pos_cash_aggregated_rest_years = pos_cash[pos_cash['YEAR_BALANCE'] >= 2].groupby('SK_ID_PREV').agg(aggregations_for_year)\n",
    "pos_cash_aggregated_rest_years.columns = ['_'.join(ele).upper() + '_YEAR_REST' for ele in pos_cash_aggregated_rest_years.columns]\n",
    "#merging all the years aggregations\n",
    "pos_cash_aggregated_year = pos_cash_aggregated_year.merge(pos_cash_aggregated_rest_years, on = 'SK_ID_PREV', how = 'outer')\n",
    "pos_cash = pos_cash.drop(['YEAR_BALANCE'], axis = 1)\n",
    "\n",
    "#aggregating over SK_ID_PREV for each of NAME_CONTRACT_STATUS categories\n",
    "contract_type_categories = ['Active', 'Completed']\n",
    "pos_cash_aggregated_contract = pd.DataFrame()\n",
    "for i, contract_type in enumerate(contract_type_categories):\n",
    "    group = pos_cash[pos_cash['NAME_CONTRACT_STATUS'] == contract_type].groupby('SK_ID_PREV').agg(aggregations_for_categories)\n",
    "    group.columns = ['_'.join(ele).upper() + '_' + contract_type.upper() for ele in group.columns]\n",
    "    if i == 0:\n",
    "        pos_cash_aggregated_contract = group\n",
    "    else:\n",
    "        pos_cash_aggregated_contract = pos_cash_aggregated_contract.merge(group, on = 'SK_ID_PREV', how = 'outer')\n",
    "\n",
    "pos_cash_aggregated_rest_contract = pos_cash[(pos_cash['NAME_CONTRACT_STATUS'] != 'Active') & \n",
    "                                                              (pos_cash['NAME_CONTRACT_STATUS'] != 'Completed')].groupby('SK_ID_PREV').agg(aggregations_for_categories)\n",
    "pos_cash_aggregated_rest_contract.columns = ['_'.join(ele).upper() + '_REST' for ele in pos_cash_aggregated_rest_contract.columns]\n",
    "#merging the categorical aggregations\n",
    "pos_cash_aggregated_contract = pos_cash_aggregated_contract.merge(pos_cash_aggregated_rest_contract, on = 'SK_ID_PREV', how = 'outer')    \n",
    "\n",
    "#merging all the aggregations\n",
    "pos_cash_aggregated = pos_cash_aggregated_overall.merge(pos_cash_aggregated_year, on = 'SK_ID_PREV', how = 'outer')\n",
    "pos_cash_aggregated = pos_cash_aggregated.merge(pos_cash_aggregated_contract, on = 'SK_ID_PREV', how = 'outer')\n",
    "\n",
    "#onehot encoding the categorical feature NAME_CONTRACT_TYPE\n",
    "name_contract_dummies = pd.get_dummies(pos_cash['NAME_CONTRACT_STATUS'], prefix='CONTRACT')\n",
    "contract_names = name_contract_dummies.columns.tolist()\n",
    "#concatenating one-hot encoded categories with main table\n",
    "pos_cash = pd.concat([pos_cash, name_contract_dummies], axis=1)\n",
    "#aggregating these over SK_ID_PREV as well\n",
    "aggregated_cc_contract = pos_cash[['SK_ID_PREV'] + contract_names].groupby('SK_ID_PREV').mean()    \n",
    "\n",
    "#merging with the final aggregations\n",
    "pos_cash_aggregated = pos_cash_aggregated.merge(aggregated_cc_contract, on = 'SK_ID_PREV', how = 'outer')\n"
   ]
  },
  {
   "cell_type": "code",
   "execution_count": null,
   "id": "0cdaf5df",
   "metadata": {},
   "outputs": [],
   "source": [
    "columns_to_aggregate = pos_cash_aggregated.columns[1:]\n",
    "#defining the aggregations to perform\n",
    "aggregations_final = {}\n",
    "for col in columns_to_aggregate:\n",
    "    if 'MEAN' in col:\n",
    "        aggregates = ['mean','sum','max']\n",
    "    else:\n",
    "        aggregates = ['mean']\n",
    "    aggregations_final[col] = aggregates\n",
    "pos_cash_aggregated_final = pos_cash_aggregated.groupby('SK_ID_CURR').agg(aggregations_final)\n",
    "pos_cash_aggregated_final.columns = ['_'.join(ele).upper() for ele in pos_cash_aggregated_final.columns]\n"
   ]
  },
  {
   "cell_type": "code",
   "execution_count": null,
   "id": "9fabf5a0",
   "metadata": {},
   "outputs": [],
   "source": [
    "pos_cash_aggregated_final.reset_index(inplace = True)"
   ]
  },
  {
   "cell_type": "code",
   "execution_count": null,
   "id": "986ca3c7",
   "metadata": {},
   "outputs": [],
   "source": [
    "pos_cash_aggregated_final.to_csv('pos_cash_final.csv', index = False)\n",
    "print('done')"
   ]
  },
  {
   "cell_type": "code",
   "execution_count": null,
   "id": "b2d76c0c",
   "metadata": {},
   "outputs": [],
   "source": []
  }
 ],
 "metadata": {
  "kernelspec": {
   "display_name": "Python 3 (ipykernel)",
   "language": "python",
   "name": "python3"
  },
  "language_info": {
   "codemirror_mode": {
    "name": "ipython",
    "version": 3
   },
   "file_extension": ".py",
   "mimetype": "text/x-python",
   "name": "python",
   "nbconvert_exporter": "python",
   "pygments_lexer": "ipython3",
   "version": "3.9.7"
  }
 },
 "nbformat": 4,
 "nbformat_minor": 5
}
